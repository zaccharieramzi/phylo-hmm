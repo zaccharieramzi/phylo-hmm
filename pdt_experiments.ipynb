{
 "cells": [
  {
   "cell_type": "markdown",
   "metadata": {},
   "source": [
    "# Experiments on Phylo HMMs"
   ]
  },
  {
   "cell_type": "code",
   "execution_count": null,
   "metadata": {
    "collapsed": true
   },
   "outputs": [],
   "source": [
    "%matplotlib inline\n",
    "from tree_serialisation import load_tree\n",
    "from data_simulation import generate_case, rate_sub_HKY, scale_branches_length\n",
    "\n",
    "import numpy as np\n",
    "import random\n",
    "from copy import deepcopy\n",
    "\n",
    "import matplotlib.pyplot as plt\n",
    "\n",
    "from felsenstein import pruning\n",
    "from viterbi_sumproduct import viterbi, sum_product"
   ]
  },
  {
   "cell_type": "markdown",
   "metadata": {},
   "source": [
    "## First example a toy gene finder"
   ]
  },
  {
   "cell_type": "code",
   "execution_count": 26,
   "metadata": {
    "collapsed": false
   },
   "outputs": [],
   "source": [
    "# SIMULATION PARAMETERS\n",
    "tree_path = \"tree.json\"\n",
    "number_of_nucleotids = 100\n",
    "alphabet = ['A', 'C', 'T', 'G']\n",
    "alphabetSize = len(alphabet)\n",
    "\n",
    "nbState = 4\n",
    "# transition matrix of the toy gene finder\n",
    "A = np.zeros((nbState, nbState))\n",
    "A[0, 1] = 1\n",
    "A[1, 2] = 1\n",
    "A[2, 3] = 0.33\n",
    "A[2, 0] = 1 - A[2, 3]\n",
    "A[3, 3] = 0.33  # 0.9999  # unrealistic ...\n",
    "A[3, 0] = 1 - A[3, 3]\n",
    "\n",
    "# state initial probability\n",
    "b = np.array([0.25, 0.25, 0.26, 0.24])\n",
    "\n",
    "animalNames = [\"dog\", \"cat\", \"pig\"]#, \"cow\", \"rat\", \"mouse\", \"baboon\", \"human\"]\n",
    "\n",
    "\"\"\"[...], such as the higher average rate of substitution and the greater\n",
    "transition/transversion ratio, in noncoding and third-codon-position sites\n",
    "than in firstand second- codon-position sites[...]\"\"\"\n",
    "\n",
    "pi = np.zeros((nbState, alphabetSize))\n",
    "# substitution rates for pi 0 and 1 are between 0 and 0.001\n",
    "pi[0] = np.random.rand(alphabetSize) * 0.001\n",
    "pi[1] = np.random.rand(alphabetSize) * 0.001\n",
    "# but between 0 and 0.01 for pi 2 and 3\n",
    "pi[2] = np.random.rand(alphabetSize) * 0.01\n",
    "pi[3] = np.random.rand(alphabetSize) * 0.01\n",
    "pi /= pi.sum(axis=1)[:, None]\n",
    "\n",
    "# translation/transversion rate\n",
    "kappa = np.array([2.3, 2.7, 4.3, 5.4])"
   ]
  },
  {
   "cell_type": "code",
   "execution_count": 44,
   "metadata": {
    "collapsed": false
   },
   "outputs": [
    {
     "name": "stdout",
     "output_type": "stream",
     "text": [
      "{1: [], 2: [], 3: [], 9: [{'node': 1, 'branch': 0.93}, {'node': 2, 'branch': 0.75}], 10: [{'node': 3, 'branch': 1.02}], 13: [{'node': 9, 'branch': 0.73}, {'node': 10, 'branch': 0.3}]}\n"
     ]
    }
   ],
   "source": [
    "# load the phylogenetic model from JSON\n",
    "tree = load_tree(tree_path)\n",
    "\n",
    "def sub_tree(tree, number_of_species):\n",
    "    \"\"\"\n",
    "    Prune the tree to keep only number_of_species species\n",
    "    Args :\n",
    "           - tree (dict)\n",
    "           - number_of_species (int)\n",
    "    \"\"\"\n",
    "    tree_cp = deepcopy(tree)\n",
    "    def treat_node(node):\n",
    "        childs = tree[node]  # important for the recursion\n",
    "        if childs:\n",
    "            for child in childs:\n",
    "                new_child = child[\"node\"]\n",
    "                treat_node(new_child)\n",
    "\n",
    "            for child in childs:\n",
    "                new_child = child[\"node\"]\n",
    "                if new_child > number_of_species and not tree_cp[new_child]:\n",
    "                    # we drop the child\n",
    "                    tree_cp[node].remove(child)\n",
    "                \n",
    "    treat_node(max(tree.keys()))\n",
    "    # discard \"dead leaves\"\n",
    "    for key in tree.keys():\n",
    "        if key > number_of_species and not tree_cp[key]:\n",
    "            tree_cp.pop(key, None)\n",
    "    # now merge useless intermediary node ie with only one son which is not a leave\n",
    "    node = max(tree.keys())\n",
    "    while(len(tree_cp[node])== 1 and tree_cp[tree_cp[node][0][\"node\"]]):\n",
    "        child = tree_cp[node][0][\"node\"]\n",
    "        tree_cp[child][0][\"branch\"] += tree_cp[node][0][\"branch\"]\n",
    "        tree_cp.pop(node, None)\n",
    "        node = child\n",
    "    \n",
    "    return tree_cp\n",
    "tree = sub_tree(tree, n_species)\n",
    "print(tree)\n",
    "trees = []\n",
    "\n",
    "for j in range(nbState):\n",
    "    trees.append(scale_branches_length(tree, scale=random.random()))\n",
    "\n",
    "\n",
    "\n",
    "strands, states = generate_case(A, b, pi, kappa,\n",
    "                                trees, number_of_nucleotids)"
   ]
  },
  {
   "cell_type": "code",
   "execution_count": 46,
   "metadata": {
    "collapsed": false
   },
   "outputs": [],
   "source": [
    "# Transform strands from ints to strings\n",
    "str_strands = list()\n",
    "for strand in strands:\n",
    "    str_strand = \"\"\n",
    "    for acid_int in strand:\n",
    "        str_strand = ''.join([str_strand, alphabet[acid_int]])\n",
    "    str_strands += [str_strand]"
   ]
  },
  {
   "cell_type": "code",
   "execution_count": 47,
   "metadata": {
    "collapsed": false
   },
   "outputs": [],
   "source": [
    "# Transform strands in sites\n",
    "sites = list()\n",
    "for site_ind in range(number_of_nucleotids):\n",
    "    sites += [''.join([str_strands[species_ind][site_ind] for species_ind in range(n_species)])]"
   ]
  },
  {
   "cell_type": "code",
   "execution_count": 48,
   "metadata": {
    "collapsed": false
   },
   "outputs": [
    {
     "ename": "IndexError",
     "evalue": "list index out of range",
     "output_type": "error",
     "traceback": [
      "\u001b[0;31m---------------------------------------------------------------------------\u001b[0m",
      "\u001b[0;31mIndexError\u001b[0m                                Traceback (most recent call last)",
      "\u001b[0;32m<ipython-input-48-850191fdc545>\u001b[0m in \u001b[0;36m<module>\u001b[0;34m()\u001b[0m\n\u001b[1;32m      7\u001b[0m     \u001b[0mp\u001b[0m \u001b[1;33m=\u001b[0m \u001b[0mpi\u001b[0m\u001b[1;33m[\u001b[0m\u001b[0mstate\u001b[0m\u001b[1;33m]\u001b[0m\u001b[1;33m\u001b[0m\u001b[0m\n\u001b[1;32m      8\u001b[0m     \u001b[1;32mfor\u001b[0m \u001b[0msite_ind\u001b[0m\u001b[1;33m,\u001b[0m \u001b[0msite\u001b[0m \u001b[1;32min\u001b[0m \u001b[0menumerate\u001b[0m\u001b[1;33m(\u001b[0m\u001b[0msites\u001b[0m\u001b[1;33m)\u001b[0m\u001b[1;33m:\u001b[0m\u001b[1;33m\u001b[0m\u001b[0m\n\u001b[0;32m----> 9\u001b[0;31m         \u001b[0mlikelihoods\u001b[0m\u001b[1;33m[\u001b[0m\u001b[0mstate\u001b[0m\u001b[1;33m,\u001b[0m \u001b[0msite_ind\u001b[0m\u001b[1;33m]\u001b[0m \u001b[1;33m=\u001b[0m \u001b[0mpruning\u001b[0m\u001b[1;33m(\u001b[0m\u001b[0mQ\u001b[0m\u001b[1;33m,\u001b[0m \u001b[0mp\u001b[0m\u001b[1;33m,\u001b[0m \u001b[0mtree\u001b[0m\u001b[1;33m,\u001b[0m \u001b[0msite\u001b[0m\u001b[1;33m)\u001b[0m\u001b[1;33m\u001b[0m\u001b[0m\n\u001b[0m",
      "\u001b[0;32mC:\\Users\\Pierre\\Downloads\\MVA\\phylo-hmm\\felsenstein.py\u001b[0m in \u001b[0;36mpruning\u001b[0;34m(Q, pi, tree, site)\u001b[0m\n\u001b[1;32m     51\u001b[0m \u001b[1;33m\u001b[0m\u001b[0m\n\u001b[1;32m     52\u001b[0m     \u001b[1;32mfor\u001b[0m \u001b[0mnode\u001b[0m \u001b[1;32min\u001b[0m \u001b[0mtree\u001b[0m\u001b[1;33m:\u001b[0m\u001b[1;33m\u001b[0m\u001b[0m\n\u001b[0;32m---> 53\u001b[0;31m         \u001b[0mdynamic_probas\u001b[0m\u001b[1;33m[\u001b[0m\u001b[0mnode\u001b[0m\u001b[1;33m]\u001b[0m \u001b[1;33m=\u001b[0m \u001b[0mposterior_proba\u001b[0m\u001b[1;33m(\u001b[0m\u001b[0mnode\u001b[0m\u001b[1;33m)\u001b[0m\u001b[1;33m\u001b[0m\u001b[0m\n\u001b[0m\u001b[1;32m     54\u001b[0m     \u001b[1;32mreturn\u001b[0m \u001b[0mdynamic_probas\u001b[0m\u001b[1;33m[\u001b[0m\u001b[1;36m2\u001b[0m\u001b[1;33m*\u001b[0m\u001b[0mn\u001b[0m\u001b[1;33m-\u001b[0m\u001b[1;36m1\u001b[0m\u001b[1;33m]\u001b[0m\u001b[1;33m.\u001b[0m\u001b[0mdot\u001b[0m\u001b[1;33m(\u001b[0m\u001b[0mpi\u001b[0m\u001b[1;33m)\u001b[0m\u001b[1;33m\u001b[0m\u001b[0m\n",
      "\u001b[0;32mC:\\Users\\Pierre\\Downloads\\MVA\\phylo-hmm\\felsenstein.py\u001b[0m in \u001b[0;36mposterior_proba\u001b[0;34m(node)\u001b[0m\n\u001b[1;32m     36\u001b[0m             \u001b[1;32mif\u001b[0m \u001b[0mchilds\u001b[0m\u001b[1;33m:\u001b[0m\u001b[1;33m\u001b[0m\u001b[0m\n\u001b[1;32m     37\u001b[0m                 \u001b[0mleft_child\u001b[0m \u001b[1;33m=\u001b[0m \u001b[0mchilds\u001b[0m\u001b[1;33m[\u001b[0m\u001b[1;36m0\u001b[0m\u001b[1;33m]\u001b[0m\u001b[1;33m[\u001b[0m\u001b[1;34m\"node\"\u001b[0m\u001b[1;33m]\u001b[0m\u001b[1;33m\u001b[0m\u001b[0m\n\u001b[0;32m---> 38\u001b[0;31m                 \u001b[0mright_child\u001b[0m \u001b[1;33m=\u001b[0m \u001b[0mchilds\u001b[0m\u001b[1;33m[\u001b[0m\u001b[1;36m1\u001b[0m\u001b[1;33m]\u001b[0m\u001b[1;33m[\u001b[0m\u001b[1;34m\"node\"\u001b[0m\u001b[1;33m]\u001b[0m\u001b[1;33m\u001b[0m\u001b[0m\n\u001b[0m\u001b[1;32m     39\u001b[0m                 \u001b[0mpost_proba_left\u001b[0m \u001b[1;33m=\u001b[0m \u001b[0mposterior_proba\u001b[0m\u001b[1;33m(\u001b[0m\u001b[0mleft_child\u001b[0m\u001b[1;33m)\u001b[0m\u001b[1;33m\u001b[0m\u001b[0m\n\u001b[1;32m     40\u001b[0m                 \u001b[0mpost_proba_right\u001b[0m \u001b[1;33m=\u001b[0m \u001b[0mposterior_proba\u001b[0m\u001b[1;33m(\u001b[0m\u001b[0mright_child\u001b[0m\u001b[1;33m)\u001b[0m\u001b[1;33m\u001b[0m\u001b[0m\n",
      "\u001b[0;31mIndexError\u001b[0m: list index out of range"
     ]
    }
   ],
   "source": [
    "# Process likelihoods with Felsenstein's algorithm\n",
    "Qs = rate_sub_HKY(pi, kappa)\n",
    "likelihoods = np.zeros((nbState, number_of_nucleotids))\n",
    "for state in range(nbState):\n",
    "    tree = trees[state]\n",
    "    Q = Qs[state]\n",
    "    p = pi[state]\n",
    "    for site_ind, site in enumerate(sites):\n",
    "        likelihoods[state, site_ind] = pruning(Q, p, tree, site)"
   ]
  },
  {
   "cell_type": "code",
   "execution_count": 31,
   "metadata": {
    "collapsed": false
   },
   "outputs": [
    {
     "name": "stderr",
     "output_type": "stream",
     "text": [
      "C:\\Users\\Pierre\\Downloads\\MVA\\phylo-hmm\\viterbi_sumproduct.py:44: RuntimeWarning: divide by zero encountered in log\n",
      "  alpha_log[:, 0] = np.log(b) + np.log(E[:, 0])\n",
      "C:\\Users\\Pierre\\Downloads\\MVA\\phylo-hmm\\viterbi_sumproduct.py:49: RuntimeWarning: divide by zero encountered in log\n",
      "  prob = np.log(A[:, s]) + alpha_log[:, t - 1]\n",
      "C:\\Users\\Pierre\\Downloads\\MVA\\phylo-hmm\\viterbi_sumproduct.py:55: RuntimeWarning: divide by zero encountered in log\n",
      "  alpha_log[s, t] = np.log(E[s, t]) + prob\n"
     ]
    }
   ],
   "source": [
    "# VITERBI PARAMETERS\n",
    "S = range(nbState)\n",
    "state_sequence_viterbi = viterbi(S, A, b, likelihoods)"
   ]
  },
  {
   "cell_type": "code",
   "execution_count": 15,
   "metadata": {
    "collapsed": false
   },
   "outputs": [
    {
     "data": {
      "text/plain": [
       "0.28999999999999998"
      ]
     },
     "execution_count": 15,
     "metadata": {},
     "output_type": "execute_result"
    }
   ],
   "source": [
    "# Precision\n",
    "np.sum(states == state_sequence_viterbi) / number_of_nucleotids"
   ]
  },
  {
   "cell_type": "code",
   "execution_count": null,
   "metadata": {
    "collapsed": true
   },
   "outputs": [],
   "source": []
  }
 ],
 "metadata": {
  "anaconda-cloud": {},
  "kernelspec": {
   "display_name": "Python [conda root]",
   "language": "python",
   "name": "conda-root-py"
  },
  "language_info": {
   "codemirror_mode": {
    "name": "ipython",
    "version": 3
   },
   "file_extension": ".py",
   "mimetype": "text/x-python",
   "name": "python",
   "nbconvert_exporter": "python",
   "pygments_lexer": "ipython3",
   "version": "3.5.2"
  }
 },
 "nbformat": 4,
 "nbformat_minor": 1
}
