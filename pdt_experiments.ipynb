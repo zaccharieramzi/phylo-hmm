{
 "cells": [
  {
   "cell_type": "markdown",
   "metadata": {},
   "source": [
    "# Experiments on Phylo HMMs"
   ]
  },
  {
   "cell_type": "code",
   "execution_count": 1,
   "metadata": {
    "collapsed": false
   },
   "outputs": [],
   "source": [
    "%matplotlib inline\n",
    "import random\n",
    "from copy import deepcopy\n",
    "\n",
    "import matplotlib.pyplot as plt\n",
    "import numpy as np\n",
    "\n",
    "from felsenstein import pruning\n",
    "from viterbi_sumproduct import viterbi, sum_product\n",
    "from model_evaluation import sub_tree, single_decoding_routine\n",
    "from tree_serialisation import load_tree\n",
    "from data_simulation import generate_case, rate_sub_HKY, scale_branches_length"
   ]
  },
  {
   "cell_type": "markdown",
   "metadata": {},
   "source": [
    "## First example a toy gene finder"
   ]
  },
  {
   "cell_type": "code",
   "execution_count": 2,
   "metadata": {
    "collapsed": false
   },
   "outputs": [],
   "source": [
    "# SIMULATION PARAMETERS\n",
    "tree_path = \"tree.json\"\n",
    "alphabet = ['A', 'C', 'T', 'G']\n",
    "alphabetSize = len(alphabet)\n",
    "\n",
    "nbState = 4\n",
    "# transition matrix of the toy gene finder\n",
    "A = np.zeros((nbState, nbState))\n",
    "A[0, 1] = 1\n",
    "A[1, 2] = 1\n",
    "A[2, 3] = 0.10\n",
    "A[2, 0] = 1 - A[2, 3]\n",
    "A[3, 3] = 0.8  # 0.9999  # unrealistic ...\n",
    "A[3, 0] = 1 - A[3, 3]\n",
    "\n",
    "# state initial probability\n",
    "b = np.array([0.25, 0.25, 0.25, 0.25])\n",
    "\n",
    "animalNames = [\"dog\", \"cat\", \"pig\", \"cow\", \"rat\", \"mouse\", \"baboon\", \"human\"]\n",
    "n_species = len(animalNames)\n",
    "\"\"\"[...], such as the higher average rate of substitution and the greater\n",
    "transition/transversion ratio, in noncoding and third-codon-position sites\n",
    "than in firstand second- codon-position sites[...]\"\"\"\n",
    "\n",
    "pi_easy = np.load(\"pi_easy.npy\")\n",
    "pi_difficult = np.load(\"pi_difficult.npy\")\n",
    "\n",
    "# translation/transversion rate\n",
    "kappa = np.array([2.3, 2.7, 4.3, 5.4])\n",
    "\n",
    "# scaling factors for the different states\n",
    "scaling_factors = np.load(\"scaling_factors.npy\")"
   ]
  },
  {
   "cell_type": "code",
   "execution_count": 3,
   "metadata": {
    "collapsed": true
   },
   "outputs": [],
   "source": [
    "# MONTE-CARLO PARAMETERS\n",
    "n_nucleotids = 1000\n",
    "n_simulations = 200"
   ]
  },
  {
   "cell_type": "code",
   "execution_count": 4,
   "metadata": {
    "collapsed": false,
    "scrolled": true
   },
   "outputs": [
    {
     "name": "stderr",
     "output_type": "stream",
     "text": [
      "/home/zaccharie/workspace/PGM/Project/phylo-hmm/viterbi_sumproduct.py:49: RuntimeWarning: divide by zero encountered in log\n",
      "  prob = np.log(A[:, s]) + alpha_log[:, t - 1]\n",
      "/home/zaccharie/workspace/PGM/Project/phylo-hmm/viterbi_sumproduct.py:49: RuntimeWarning: divide by zero encountered in log\n",
      "  prob = np.log(A[:, s]) + alpha_log[:, t - 1]\n"
     ]
    },
    {
     "name": "stdout",
     "output_type": "stream",
     "text": [
      "Simulation n°0\n",
      "Simulation n°1\n",
      "Simulation n°2\n",
      "Simulation n°3\n",
      "Simulation n°4\n",
      "Simulation n°5\n",
      "Simulation n°6\n",
      "Simulation n°7\n",
      "Simulation n°8\n",
      "Simulation n°9\n",
      "Simulation n°10\n",
      "Simulation n°11\n",
      "Simulation n°12\n",
      "Simulation n°13\n",
      "Simulation n°14\n",
      "Simulation n°15\n",
      "Simulation n°16\n",
      "Simulation n°17\n",
      "Simulation n°18\n",
      "Simulation n°19\n",
      "Simulation n°20\n",
      "Simulation n°21\n",
      "Simulation n°22\n",
      "Simulation n°23\n",
      "Simulation n°24\n",
      "Simulation n°25\n",
      "Simulation n°26\n",
      "Simulation n°27\n",
      "Simulation n°28\n",
      "Simulation n°29\n",
      "Simulation n°30\n",
      "Simulation n°31\n",
      "Simulation n°32\n",
      "Simulation n°33\n",
      "Simulation n°34\n",
      "Simulation n°35\n",
      "Simulation n°36\n",
      "Simulation n°37\n",
      "Simulation n°38\n",
      "Simulation n°39\n",
      "Simulation n°40\n",
      "Simulation n°41\n",
      "Simulation n°42\n",
      "Simulation n°43\n",
      "Simulation n°44\n",
      "Simulation n°45\n",
      "Simulation n°46\n",
      "Simulation n°47\n",
      "Simulation n°48\n",
      "Simulation n°49\n",
      "Simulation n°50\n",
      "Simulation n°51\n",
      "Simulation n°52\n",
      "Simulation n°53\n",
      "Simulation n°54\n",
      "Simulation n°55\n",
      "Simulation n°56\n",
      "Simulation n°57\n",
      "Simulation n°58\n",
      "Simulation n°59\n",
      "Simulation n°60\n",
      "Simulation n°61\n",
      "Simulation n°62\n",
      "Simulation n°63\n",
      "Simulation n°64\n",
      "Simulation n°65\n",
      "Simulation n°66\n",
      "Simulation n°67\n",
      "Simulation n°68\n",
      "Simulation n°69\n",
      "Simulation n°70\n",
      "Simulation n°71\n",
      "Simulation n°72\n",
      "Simulation n°73\n",
      "Simulation n°74\n",
      "Simulation n°75\n",
      "Simulation n°76\n",
      "Simulation n°77\n",
      "Simulation n°78\n",
      "Simulation n°79\n",
      "Simulation n°80\n",
      "Simulation n°81\n",
      "Simulation n°82\n",
      "Simulation n°83\n",
      "Simulation n°84\n",
      "Simulation n°85\n",
      "Simulation n°86\n",
      "Simulation n°87\n",
      "Simulation n°88\n",
      "Simulation n°89\n",
      "Simulation n°90\n",
      "Simulation n°91\n",
      "Simulation n°92\n",
      "Simulation n°93\n",
      "Simulation n°94\n",
      "Simulation n°95\n",
      "Simulation n°96\n",
      "Simulation n°97\n",
      "Simulation n°98\n",
      "Simulation n°99\n",
      "Simulation n°100\n",
      "Simulation n°101\n",
      "Simulation n°102\n",
      "Simulation n°103\n",
      "Simulation n°104\n",
      "Simulation n°105\n",
      "Simulation n°106\n",
      "Simulation n°107\n",
      "Simulation n°108\n",
      "Simulation n°109\n",
      "Simulation n°110\n",
      "Simulation n°111\n",
      "Simulation n°112\n",
      "Simulation n°113\n",
      "Simulation n°114\n",
      "Simulation n°115\n",
      "Simulation n°116\n",
      "Simulation n°117\n",
      "Simulation n°118\n",
      "Simulation n°119\n",
      "Simulation n°120\n",
      "Simulation n°121\n",
      "Simulation n°122\n",
      "Simulation n°123\n",
      "Simulation n°124\n",
      "Simulation n°125\n",
      "Simulation n°126\n",
      "Simulation n°127\n",
      "Simulation n°128\n",
      "Simulation n°129\n",
      "Simulation n°130\n",
      "Simulation n°131\n",
      "Simulation n°132\n",
      "Simulation n°133\n",
      "Simulation n°134\n",
      "Simulation n°135\n",
      "Simulation n°136\n",
      "Simulation n°137\n",
      "Simulation n°138\n",
      "Simulation n°139\n",
      "Simulation n°140\n",
      "Simulation n°141\n",
      "Simulation n°142\n",
      "Simulation n°143\n",
      "Simulation n°144\n",
      "Simulation n°145\n",
      "Simulation n°146\n",
      "Simulation n°147\n",
      "Simulation n°148\n",
      "Simulation n°149\n",
      "Simulation n°150\n",
      "Simulation n°151\n",
      "Simulation n°152\n",
      "Simulation n°153\n",
      "Simulation n°154\n",
      "Simulation n°155\n",
      "Simulation n°156\n",
      "Simulation n°157\n",
      "Simulation n°158\n",
      "Simulation n°159\n",
      "Simulation n°160\n",
      "Simulation n°161\n",
      "Simulation n°162\n",
      "Simulation n°163\n",
      "Simulation n°164\n",
      "Simulation n°165\n",
      "Simulation n°166\n",
      "Simulation n°167\n",
      "Simulation n°168\n",
      "Simulation n°169\n",
      "Simulation n°170\n",
      "Simulation n°171\n",
      "Simulation n°172\n",
      "Simulation n°173\n",
      "Simulation n°174\n",
      "Simulation n°175\n",
      "Simulation n°176\n",
      "Simulation n°177\n",
      "Simulation n°178\n",
      "Simulation n°179\n",
      "Simulation n°180\n",
      "Simulation n°181\n",
      "Simulation n°182\n",
      "Simulation n°183\n",
      "Simulation n°184\n",
      "Simulation n°185\n",
      "Simulation n°186\n",
      "Simulation n°187\n",
      "Simulation n°188\n",
      "Simulation n°189\n",
      "Simulation n°190\n",
      "Simulation n°191\n",
      "Simulation n°192\n",
      "Simulation n°193\n",
      "Simulation n°194\n",
      "Simulation n°195\n",
      "Simulation n°196\n",
      "Simulation n°197\n",
      "Simulation n°198\n",
      "Simulation n°199\n"
     ]
    }
   ],
   "source": [
    "np.seterr(all='warn')\n",
    "precision_easy = np.zeros((n_simulations, n_species))\n",
    "sensitivity_easy = np.zeros((n_simulations, n_species))\n",
    "specificity_easy = np.zeros((n_simulations, n_species))\n",
    "for n in range(n_simulations):\n",
    "    for i,sub_indices in enumerate(\n",
    "        [[5],[1,5],[1,4,5],[1,4,5,8],[1,2,4,5,8],[1,2,3,4,5,8],[1,2,3,4,5,7,8],range(1,9)]):\n",
    "    \n",
    "        precision_easy[n, i], sensitivity_easy[n, i], specificity_easy[n, i] = single_decoding_routine(tree_path, n_nucleotids, alphabet, A,\n",
    "                            b, n_species, pi_easy, kappa, scaling_factors, alg='viterbi',\n",
    "                            list_of_species=sub_indices)\n",
    "        # Precision\n",
    "\n",
    "    print(\"Simulation n°{:d}\".format(n))"
   ]
  },
  {
   "cell_type": "code",
   "execution_count": 5,
   "metadata": {
    "collapsed": false
   },
   "outputs": [
    {
     "name": "stderr",
     "output_type": "stream",
     "text": [
      "/home/zaccharie/workspace/PGM/Project/phylo-hmm/venv/lib/python3.5/site-packages/matplotlib/axes/_axes.py:504: UserWarning: You have mixed positional and keyword arguments, some input will be discarded.\n",
      "  warnings.warn(\"You have mixed positional and keyword \"\n"
     ]
    },
    {
     "data": {
      "text/plain": [
       "<matplotlib.text.Text at 0x7fdf6c0cdcf8>"
      ]
     },
     "execution_count": 5,
     "metadata": {},
     "output_type": "execute_result"
    },
    {
     "data": {
      "image/png": "[encoded data removed]",
      "text/plain": [
       "<matplotlib.figure.Figure at 0x7fdf7c84aa90>"
      ]
     },
     "metadata": {},
     "output_type": "display_data"
    }
   ],
   "source": [
    "axes = plt.gca()\n",
    "# axes.set_xlim([xmin,xmax])\n",
    "axes.set_ylim([0.5, 1])\n",
    "plt.ylabel('Ratio')\n",
    "plt.xlabel('Number of Species')\n",
    "handles= [\n",
    "    #plt.plot(range(1, n_species+1), precision.mean(axis=0),\n",
    "    #         linewidth=2),\n",
    "    plt.plot(range(1, n_species+1), sensitivity_easy.mean(axis=0),\n",
    "             linewidth=2),\n",
    "    plt.plot(range(1, n_species+1), specificity_easy.mean(axis=0),\n",
    "             linewidth=2),\n",
    "    plt.plot(range(1, n_species+1), precision_easy.mean(axis=0),\n",
    "             linewidth=2)\n",
    "    ]\n",
    "plt.legend(handles, labels=[\"sensitivity\", \"specificity\", \"precision\"], #labels=[\"precision\", \"sensitivity\", \"specificity\"],\n",
    "           loc=4, borderaxespad=1)\n",
    "plt.title(\"Evolution of specificity and sensitivity with the number of species in the easy setting\")"
   ]
  },
  {
   "cell_type": "code",
   "execution_count": null,
   "metadata": {
    "collapsed": false
   },
   "outputs": [],
   "source": [
    "for i in range(n_species):\n",
    "    plt.plot(np.cumsum(precision_easy[:, i])/ (np.arange(n_simulations)+1), label=\"{0} species\".format(i+1))\n",
    "plt.xlabel(\"Number of simulations\")\n",
    "plt.ylabel(\"Average precision\")\n",
    "plt.legend(loc=4)\n",
    "    "
   ]
  },
  {
   "cell_type": "code",
   "execution_count": null,
   "metadata": {
    "collapsed": false
   },
   "outputs": [],
   "source": [
    "np.seterr(all='warn')\n",
    "precision_difficult = np.zeros((n_simulations, n_species))\n",
    "sensitivity_difficult = np.zeros((n_simulations, n_species))\n",
    "specificity_difficult = np.zeros((n_simulations, n_species))\n",
    "for n in range(n_simulations):\n",
    "    for i,sub_indices in enumerate(\n",
    "        [[5],[1,5],[1,4,5],[1,4,5,8],[1,2,4,5,8],[1,2,3,4,5,8],[1,2,3,4,5,7,8],range(1,9)]):\n",
    "    \n",
    "        precision_difficult[n, i], sensitivity_difficult[n, i], specificity_difficult[n, i] = single_decoding_routine(tree_path, n_nucleotids, alphabet, A,\n",
    "                            b, n_species, pi_difficult, kappa, scaling_factors, alg='viterbi',\n",
    "                            list_of_species=sub_indices)\n",
    "        # Precision\n",
    "\n",
    "    print(\"Simulation n°{:d}\".format(n))"
   ]
  },
  {
   "cell_type": "code",
   "execution_count": null,
   "metadata": {
    "collapsed": false
   },
   "outputs": [],
   "source": [
    "axes = plt.gca()\n",
    "# axes.set_xlim([xmin,xmax])\n",
    "axes.set_ylim([0.3, 1])\n",
    "plt.xlabel('Number of species')\n",
    "plt.ylabel('Ratio')\n",
    "handles= [\n",
    "    #plt.plot(range(1, n_species+1), precision.mean(axis=0),\n",
    "    #         linewidth=2),\n",
    "    plt.plot(range(1, n_species+1), sensitivity_difficult.mean(axis=0),\n",
    "             linewidth=2),\n",
    "    plt.plot(range(1, n_species+1), specificity_difficult.mean(axis=0),\n",
    "             linewidth=2),\n",
    "    plt.plot(range(1, n_species+1), precision_difficult.mean(axis=0),\n",
    "             linewidth=2)\n",
    "    ]\n",
    "plt.legend(handles, labels=[\"sensitivity\", \"specificity\", \"precision\"],\n",
    "           loc=4, borderaxespad=1.)\n",
    "plt.title(\"Evolution of specificity and sensitivity with the number of species in the difficult setting\")"
   ]
  },
  {
   "cell_type": "code",
   "execution_count": null,
   "metadata": {
    "collapsed": false
   },
   "outputs": [],
   "source": [
    "print(pi_easy)\n",
    "print(pi_difficult)"
   ]
  },
  {
   "cell_type": "code",
   "execution_count": null,
   "metadata": {
    "collapsed": false
   },
   "outputs": [],
   "source": [
    "np.mean(precision_easy[:,7])"
   ]
  }
 ],
 "metadata": {
  "anaconda-cloud": {},
  "kernelspec": {
   "display_name": "Python 3",
   "language": "python",
   "name": "python3"
  },
  "language_info": {
   "codemirror_mode": {
    "name": "ipython",
    "version": 3
   },
   "file_extension": ".py",
   "mimetype": "text/x-python",
   "name": "python",
   "nbconvert_exporter": "python",
   "pygments_lexer": "ipython3",
   "version": "3.5.2"
  }
 },
 "nbformat": 4,
 "nbformat_minor": 1
}
