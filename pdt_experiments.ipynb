{
 "cells": [
  {
   "cell_type": "markdown",
   "metadata": {},
   "source": [
    "# Experiments on Phylo HMMs"
   ]
  },
  {
   "cell_type": "code",
   "execution_count": 10,
   "metadata": {
    "collapsed": false
   },
   "outputs": [],
   "source": [
    "%matplotlib inline\n",
    "from tree_serialisation import load_tree\n",
    "from data_simulation import generate_case, rate_sub_HKY, scale_branches_length\n",
    "\n",
    "import numpy as np\n",
    "import random\n",
    "from copy import deepcopy\n",
    "\n",
    "import matplotlib.pyplot as plt\n",
    "\n",
    "from felsenstein import pruning\n",
    "from viterbi_sumproduct import viterbi, sum_product\n",
    "from model_evaluation import sub_tree, single_decoding_routine"
   ]
  },
  {
   "cell_type": "markdown",
   "metadata": {},
   "source": [
    "## First example a toy gene finder"
   ]
  },
  {
   "cell_type": "code",
   "execution_count": 11,
   "metadata": {
    "collapsed": false
   },
   "outputs": [],
   "source": [
    "# SIMULATION PARAMETERS\n",
    "tree_path = \"tree.json\"\n",
    "alphabet = ['A', 'C', 'T', 'G']\n",
    "alphabetSize = len(alphabet)\n",
    "\n",
    "nbState = 4\n",
    "# transition matrix of the toy gene finder\n",
    "A = np.zeros((nbState, nbState))\n",
    "A[0, 1] = 1\n",
    "A[1, 2] = 1\n",
    "A[2, 3] = 0.10\n",
    "A[2, 0] = 1 - A[2, 3]\n",
    "A[3, 3] = 0.8  # 0.9999  # unrealistic ...\n",
    "A[3, 0] = 1 - A[3, 3]\n",
    "\n",
    "# state initial probability\n",
    "b = np.array([0.25, 0.25, 0.26, 0.24])\n",
    "\n",
    "animalNames = [\"dog\", \"cat\", \"pig\", \"cow\", \"rat\", \"mouse\", \"baboon\", \"human\"]\n",
    "n_species = len(animalNames)\n",
    "\"\"\"[...], such as the higher average rate of substitution and the greater\n",
    "transition/transversion ratio, in noncoding and third-codon-position sites\n",
    "than in firstand second- codon-position sites[...]\"\"\"\n",
    "\n",
    "#pi = np.random.uniform(0.15, 0.35, (nbState, alphabetSize))\n",
    "pi = np.random.rand(nbState, alphabetSize).reshape(nbState, alphabetSize)\n",
    "pi /= pi.sum(axis=1)[:, None]\n",
    "\n",
    "# translation/transversion rate\n",
    "kappa = np.array([2.3, 2.7, 4.3, 5.4])"
   ]
  },
  {
   "cell_type": "code",
   "execution_count": 12,
   "metadata": {
    "collapsed": true
   },
   "outputs": [],
   "source": [
    "# MONTE-CARLO PARAMETERS\n",
    "n_nucleotids = 1000\n",
    "n_simulations = 50"
   ]
  },
  {
   "cell_type": "code",
   "execution_count": 13,
   "metadata": {
    "collapsed": false
   },
   "outputs": [
    {
     "name": "stderr",
     "output_type": "stream",
     "text": [
      "C:\\Users\\Pierre\\Downloads\\MVA\\phylo-hmm\\viterbi_sumproduct.py:49: RuntimeWarning: divide by zero encountered in log\n",
      "  prob = np.log(A[:, s]) + alpha_log[:, t - 1]\n"
     ]
    },
    {
     "name": "stdout",
     "output_type": "stream",
     "text": [
      "Simulation n°0\n",
      "Simulation n°1\n",
      "Simulation n°2\n",
      "Simulation n°3\n",
      "Simulation n°4\n",
      "Simulation n°5\n",
      "Simulation n°6\n",
      "Simulation n°7\n",
      "Simulation n°8\n",
      "Simulation n°9\n",
      "Simulation n°10\n",
      "Simulation n°11\n",
      "Simulation n°12\n",
      "Simulation n°13\n",
      "Simulation n°14\n",
      "Simulation n°15\n",
      "Simulation n°16\n",
      "Simulation n°17\n",
      "Simulation n°18\n",
      "Simulation n°19\n",
      "Simulation n°20\n",
      "Simulation n°21\n",
      "Simulation n°22\n",
      "Simulation n°23\n",
      "Simulation n°24\n",
      "Simulation n°25\n",
      "Simulation n°26\n",
      "Simulation n°27\n",
      "Simulation n°28\n",
      "Simulation n°29\n",
      "Simulation n°30\n",
      "Simulation n°31\n",
      "Simulation n°32\n",
      "Simulation n°33\n",
      "Simulation n°34\n",
      "Simulation n°35\n",
      "Simulation n°36\n",
      "Simulation n°37\n",
      "Simulation n°38\n",
      "Simulation n°39\n",
      "Simulation n°40\n",
      "Simulation n°41\n",
      "Simulation n°42\n",
      "Simulation n°43\n",
      "Simulation n°44\n",
      "Simulation n°45\n",
      "Simulation n°46\n",
      "Simulation n°47\n",
      "Simulation n°48\n",
      "Simulation n°49\n"
     ]
    }
   ],
   "source": [
    "np.seterr(all='warn')\n",
    "precision = np.zeros((n_simulations, n_species))\n",
    "sensitivity = np.zeros((n_simulations, n_species))\n",
    "specificity = np.zeros((n_simulations, n_species))\n",
    "for n in range(n_simulations):\n",
    "    for i,sub_indices in enumerate(\n",
    "        [[5],[1,5],[1,4,5],[1,4,5,8],[1,2,4,5,8],[1,2,3,4,5,8],[1,2,3,4,5,7,8],range(1,9)]):\n",
    "    \n",
    "        precision[n, i], sensitivity[n, i], specificity[n, i] = single_decoding_routine(tree_path, n_nucleotids, alphabet, A,\n",
    "                            b, n_species, pi, kappa, alg='viterbi',\n",
    "                            list_of_species=sub_indices)\n",
    "        # Precision\n",
    "\n",
    "    print(\"Simulation n°{:d}\".format(n))"
   ]
  },
  {
   "cell_type": "code",
   "execution_count": 30,
   "metadata": {
    "collapsed": false
   },
   "outputs": [
    {
     "name": "stderr",
     "output_type": "stream",
     "text": [
      "C:\\Program Files\\Anaconda3\\lib\\site-packages\\matplotlib\\axes\\_axes.py:504: UserWarning: You have mixed positional and keyword arguments, some input will be discarded.\n",
      "  warnings.warn(\"You have mixed positional and keyword \"\n"
     ]
    },
    {
     "data": {
      "text/plain": [
       "<matplotlib.legend.Legend at 0x203593ad6d8>"
      ]
     },
     "execution_count": 30,
     "metadata": {},
     "output_type": "execute_result"
    },
    {
     "data": {
      "image/png": "[encoded data removed]",
      "text/plain": [
       "<matplotlib.figure.Figure at 0x203593ad6a0>"
      ]
     },
     "metadata": {},
     "output_type": "display_data"
    }
   ],
   "source": [
    "axes = plt.gca()\n",
    "# axes.set_xlim([xmin,xmax])\n",
    "axes.set_ylim([0.5, 1])\n",
    "plt.ylabel('Ratio')\n",
    "plt.xlabel('Number of Species')\n",
    "handles= [\n",
    "    #plt.plot(range(1, n_species+1), precision.mean(axis=0),\n",
    "    #         linewidth=2),\n",
    "    plt.plot(range(1, n_species+1), sensitivity.mean(axis=0),\n",
    "             linewidth=2),\n",
    "    plt.plot(range(1, n_species+1), specificity.mean(axis=0),\n",
    "             linewidth=2)\n",
    "    ]\n",
    "plt.legend(handles, labels=[\"sensitivity\", \"specificity\"], #labels=[\"precision\", \"sensitivity\", \"specificity\"],\n",
    "           loc=4, borderaxespad=1)"
   ]
  },
  {
   "cell_type": "code",
   "execution_count": null,
   "metadata": {
    "collapsed": false
   },
   "outputs": [],
   "source": []
  },
  {
   "cell_type": "code",
   "execution_count": 29,
   "metadata": {
    "collapsed": false
   },
   "outputs": [
    {
     "name": "stderr",
     "output_type": "stream",
     "text": [
      "C:\\Program Files\\Anaconda3\\lib\\site-packages\\matplotlib\\axes\\_axes.py:504: UserWarning: You have mixed positional and keyword arguments, some input will be discarded.\n",
      "  warnings.warn(\"You have mixed positional and keyword \"\n"
     ]
    },
    {
     "data": {
      "text/plain": [
       "<matplotlib.legend.Legend at 0x20359341fd0>"
      ]
     },
     "execution_count": 29,
     "metadata": {},
     "output_type": "execute_result"
    },
    {
     "data": {
      "image/png": "[encoded data removed]",
      "text/plain": [
       "<matplotlib.figure.Figure at 0x20359341dd8>"
      ]
     },
     "metadata": {},
     "output_type": "display_data"
    }
   ],
   "source": [
    "axes = plt.gca()\n",
    "# axes.set_xlim([xmin,xmax])\n",
    "axes.set_ylim([0.5, 1])\n",
    "plt.xlabel('Number of species')\n",
    "plt.ylabel('Ratio')\n",
    "handles= [\n",
    "    #plt.plot(range(1, n_species+1), precision.mean(axis=0),\n",
    "    #         linewidth=2),\n",
    "    plt.plot(range(1, n_species+1), sensitivity_unif.mean(axis=0),\n",
    "             linewidth=2),\n",
    "    plt.plot(range(1, n_species+1), specificity_unif.mean(axis=0),\n",
    "             linewidth=2)\n",
    "    ]\n",
    "plt.legend(handles, labels=[\"sensitivity\", \"specificity\"],\n",
    "           loc=4, borderaxespad=1.)"
   ]
  }
 ],
 "metadata": {
  "anaconda-cloud": {},
  "kernelspec": {
   "display_name": "Python [conda root]",
   "language": "python",
   "name": "conda-root-py"
  },
  "language_info": {
   "codemirror_mode": {
    "name": "ipython",
    "version": 3
   },
   "file_extension": ".py",
   "mimetype": "text/x-python",
   "name": "python",
   "nbconvert_exporter": "python",
   "pygments_lexer": "ipython3",
   "version": "3.5.2"
  }
 },
 "nbformat": 4,
 "nbformat_minor": 1
}
