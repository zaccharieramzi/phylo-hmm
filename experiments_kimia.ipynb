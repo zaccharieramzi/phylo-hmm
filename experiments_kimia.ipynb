{
 "cells": [
  {
   "cell_type": "code",
   "execution_count": 19,
   "metadata": {
    "collapsed": false
   },
   "outputs": [],
   "source": [
    "import numpy as np\n",
    "\n",
    "from tree_serialisation import load_tree\n",
    "from data_simulation import scale_branches_length, rate_sub_HKY, generate_case\n",
    "from felsenstein import pruning\n",
    "from viterbi_sumproduct import viterbi, sum_product"
   ]
  },
  {
   "cell_type": "markdown",
   "metadata": {},
   "source": [
    "Example 1: a toy gene finder"
   ]
  },
  {
   "cell_type": "code",
   "execution_count": 20,
   "metadata": {
    "collapsed": false
   },
   "outputs": [],
   "source": [
    "## Definition of the parameters \n",
    "\n",
    "alphabet = ['A', 'C', 'T', 'G']\n",
    "alphabetSize = len(alphabet)\n",
    "nbState = 4\n",
    "animalNames = [\"dog\", \"cat\", \"pig\", \"cow\", \"rat\", \"mouse\", \"baboon\", \"human\"]\n",
    "n_species = len(animalNames)\n",
    "number_of_nucleotids = 200\n",
    "\n",
    "# State-transition matrix\n",
    "A = np.zeros((nbState, nbState))\n",
    "A[0, 1] = 1\n",
    "A[1, 2] = 1\n",
    "A[2, 3] = 0.011\n",
    "A[2, 0] = 1 - A[2, 3]\n",
    "A[3, 3] = 0.33  # 0.9999  # unrealistic ...\n",
    "A[3, 0] = 1 - A[3, 3]\n",
    "\n",
    "# Initial-state probabilities\n",
    "b = np.array([0.25, 0.25, 0.26, 0.24])\n",
    "\n",
    "# Loading the phylogenetic model from JSON\n",
    "tree_path = 'tree.json'\n",
    "tree = load_tree(tree_path)\n",
    "trees = []\n",
    "\n",
    "for j in range(nbState):\n",
    "    trees.append(scale_branches_length(tree))\n",
    "\n",
    "\n",
    "pi = np.zeros((nbState, alphabetSize))\n",
    "# substitution rates for pi 0 and 1 are between 0 and 0.001\n",
    "pi[0] = np.random.rand(alphabetSize) * 0.001\n",
    "pi[1] = np.random.rand(alphabetSize) * 0.001\n",
    "# but between 0 and 0.01 for pi 2 and 3\n",
    "pi[2] = np.random.rand(alphabetSize) * 0.01\n",
    "pi[3] = np.random.rand(alphabetSize) * 0.01\n",
    "pi /= pi.sum(axis=1)[:, None]\n",
    "\n",
    "# translation/transversion rate\n",
    "kappa = np.array([2.3, 2.7, 4.3, 5.4])\n",
    "\n",
    "# Rate substitution matrix\n",
    "Q = rate_sub_HKY(pi, kappa)"
   ]
  },
  {
   "cell_type": "code",
   "execution_count": 21,
   "metadata": {
    "collapsed": false
   },
   "outputs": [],
   "source": [
    "strands, states = generate_case(A, b, pi, kappa, trees, number_of_nucleotids)\n",
    "\n",
    "# Transform strands from ints to strings\n",
    "str_strands = list()\n",
    "for strand in strands:\n",
    "    str_strand = \"\"\n",
    "    for acid_int in strand:\n",
    "        str_strand = ''.join([str_strand, alphabet[acid_int]])\n",
    "    str_strands += [str_strand]\n",
    "str_strands\n",
    "\n",
    "# Transform strands in sites\n",
    "sites = list()\n",
    "for site_ind in range(number_of_nucleotids):\n",
    "    sites += [''.join([str_strands[species_ind][site_ind] for species_ind in range(n_species)])]"
   ]
  },
  {
   "cell_type": "code",
   "execution_count": 22,
   "metadata": {
    "collapsed": false
   },
   "outputs": [],
   "source": [
    "# Emission probas computation\n",
    "emission_probas = np.zeros((nbState, number_of_nucleotids))\n",
    "for state in range(nbState):\n",
    "    for site_ind, site in enumerate(sites):\n",
    "        emission_probas[state, site_ind] = pruning(Q[state], pi[state], trees[state], site)"
   ]
  },
  {
   "cell_type": "code",
   "execution_count": 23,
   "metadata": {
    "collapsed": false
   },
   "outputs": [
    {
     "name": "stderr",
     "output_type": "stream",
     "text": [
      "/home/kimia/Documents/MVA/PGM/Project/phylo-hmm/viterbi_sumproduct.py:49: RuntimeWarning: divide by zero encountered in log\n",
      "  prob = np.log(A[:, s]) + alpha_log[:, t - 1]\n"
     ]
    }
   ],
   "source": [
    "# Viterbi\n",
    "state_sequence_viterbi = viterbi(range(nbState), A, b, emission_probas)"
   ]
  },
  {
   "cell_type": "code",
   "execution_count": 14,
   "metadata": {
    "collapsed": false
   },
   "outputs": [
    {
     "data": {
      "text/plain": [
       "0.995"
      ]
     },
     "execution_count": 14,
     "metadata": {},
     "output_type": "execute_result"
    }
   ],
   "source": [
    "# Precision \n",
    "np.sum(states == state_sequence_viterbi) / number_of_nucleotids \n",
    "# Weird score..."
   ]
  },
  {
   "cell_type": "markdown",
   "metadata": {},
   "source": [
    "Example 2: identification of highly conserved regions"
   ]
  },
  {
   "cell_type": "code",
   "execution_count": 26,
   "metadata": {
    "collapsed": true
   },
   "outputs": [],
   "source": [
    "## Definition of the parameters\n",
    "\n",
    "animalNames = [\"dog\", \"cat\", \"pig\", \"cow\", \"rat\", \"mouse\", \"baboon\", \"human\", \"chimp\"]\n",
    "n_states = len(animalNames)\n",
    "n_nucleotids = 500\n",
    "\n",
    "# State-transition matrix\n",
    "lmbda = 0.94\n",
    "a = lmbda + 1/nbState*(1-lmbda)\n",
    "b = 1/nbState*(1-lmbda)\n",
    "\n",
    "A = b*np.ones((n_states, n_states))\n",
    "for i in range(n_states):\n",
    "    A[i, i] = a\n",
    "    \n",
    "# Initial-state probabilities (hypthesis: uniform distribution)\n",
    "b = np.ones(n_states) / n_states\n",
    "\n"
   ]
  },
  {
   "cell_type": "code",
   "execution_count": null,
   "metadata": {
    "collapsed": true
   },
   "outputs": [],
   "source": [
    "# Emission probas computation\n",
    "emission_probas = np.zeros((n_states, n_nucleotids))\n",
    "for state in range(nbState):\n",
    "    for site_ind, site in enumerate(sites):\n",
    "        emission_probas[state, site_ind] = pruning(Q[state], pi[state], trees[state], site)"
   ]
  },
  {
   "cell_type": "code",
   "execution_count": null,
   "metadata": {
    "collapsed": true
   },
   "outputs": [],
   "source": [
    "# Posterior probas computation\n",
    "post_probas = sum_product(A, b, emission_probas)"
   ]
  },
  {
   "cell_type": "code",
   "execution_count": null,
   "metadata": {
    "collapsed": false
   },
   "outputs": [],
   "source": [
    "interest = post_probas[0, :]"
   ]
  }
 ],
 "metadata": {
  "kernelspec": {
   "display_name": "Python 3",
   "language": "python",
   "name": "python3"
  },
  "language_info": {
   "codemirror_mode": {
    "name": "ipython",
    "version": 3
   },
   "file_extension": ".py",
   "mimetype": "text/x-python",
   "name": "python",
   "nbconvert_exporter": "python",
   "pygments_lexer": "ipython3",
   "version": "3.5.2"
  }
 },
 "nbformat": 4,
 "nbformat_minor": 2
}
