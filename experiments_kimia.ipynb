{
 "cells": [
  {
   "cell_type": "code",
   "execution_count": 38,
   "metadata": {
    "collapsed": false
   },
   "outputs": [],
   "source": [
    "import numpy as np\n",
    "import matplotlib.pyplot as plt\n",
    "from tree_serialisation import load_tree\n",
    "from data_simulation import scale_branches_length, rate_sub_HKY, generate_case\n",
    "from felsenstein import np_pruning\n",
    "from viterbi_sumproduct import viterbi, sum_product\n",
    "from model_evaluation import single_decoding_routine"
   ]
  },
  {
   "cell_type": "markdown",
   "metadata": {},
   "source": [
    "Example 1: a toy gene finder"
   ]
  },
  {
   "cell_type": "code",
   "execution_count": 20,
   "metadata": {
    "collapsed": false
   },
   "outputs": [],
   "source": [
    "## Definition of the parameters \n",
    "\n",
    "alphabet = ['A', 'C', 'T', 'G']\n",
    "alphabetSize = len(alphabet)\n",
    "nbState = 4\n",
    "animalNames = [\"dog\", \"cat\", \"pig\", \"cow\", \"rat\", \"mouse\", \"baboon\", \"human\"]\n",
    "n_species = len(animalNames)\n",
    "number_of_nucleotids = 200\n",
    "\n",
    "# State-transition matrix\n",
    "A = np.zeros((nbState, nbState))\n",
    "A[0, 1] = 1\n",
    "A[1, 2] = 1\n",
    "A[2, 3] = 0.011\n",
    "A[2, 0] = 1 - A[2, 3]\n",
    "A[3, 3] = 0.33  # 0.9999  # unrealistic ...\n",
    "A[3, 0] = 1 - A[3, 3]\n",
    "\n",
    "# Initial-state probabilities\n",
    "b = np.array([0.25, 0.25, 0.26, 0.24])\n",
    "\n",
    "# Loading the phylogenetic model from JSON\n",
    "tree_path = 'tree.json'\n",
    "tree = load_tree(tree_path)\n",
    "trees = []\n",
    "\n",
    "for j in range(nbState):\n",
    "    trees.append(scale_branches_length(tree))\n",
    "\n",
    "\n",
    "pi = np.zeros((nbState, alphabetSize))\n",
    "# substitution rates for pi 0 and 1 are between 0 and 0.001\n",
    "pi[0] = np.random.rand(alphabetSize) * 0.001\n",
    "pi[1] = np.random.rand(alphabetSize) * 0.001\n",
    "# but between 0 and 0.01 for pi 2 and 3\n",
    "pi[2] = np.random.rand(alphabetSize) * 0.01\n",
    "pi[3] = np.random.rand(alphabetSize) * 0.01\n",
    "pi /= pi.sum(axis=1)[:, None]\n",
    "\n",
    "# translation/transversion rate\n",
    "kappa = np.array([2.3, 2.7, 4.3, 5.4])\n",
    "\n",
    "# Rate substitution matrix\n",
    "Q = rate_sub_HKY(pi, kappa)"
   ]
  },
  {
   "cell_type": "code",
   "execution_count": 21,
   "metadata": {
    "collapsed": false
   },
   "outputs": [],
   "source": [
    "strands, states = generate_case(A, b, pi, kappa, trees, number_of_nucleotids)\n",
    "\n",
    "# Transform strands from ints to strings\n",
    "str_strands = list()\n",
    "for strand in strands:\n",
    "    str_strand = \"\"\n",
    "    for acid_int in strand:\n",
    "        str_strand = ''.join([str_strand, alphabet[acid_int]])\n",
    "    str_strands += [str_strand]\n",
    "str_strands\n",
    "\n",
    "# Transform strands in sites\n",
    "sites = list()\n",
    "for site_ind in range(number_of_nucleotids):\n",
    "    sites += [''.join([str_strands[species_ind][site_ind] for species_ind in range(n_species)])]"
   ]
  },
  {
   "cell_type": "code",
   "execution_count": 22,
   "metadata": {
    "collapsed": false
   },
   "outputs": [],
   "source": [
    "# Emission probas computation\n",
    "emission_probas = np.zeros((nbState, number_of_nucleotids))\n",
    "for state in range(nbState):\n",
    "    for site_ind, site in enumerate(sites):\n",
    "        emission_probas[state, site_ind] = pruning(Q[state], pi[state], trees[state], site)"
   ]
  },
  {
   "cell_type": "code",
   "execution_count": 23,
   "metadata": {
    "collapsed": false
   },
   "outputs": [
    {
     "name": "stderr",
     "output_type": "stream",
     "text": [
      "/home/kimia/Documents/MVA/PGM/Project/phylo-hmm/viterbi_sumproduct.py:49: RuntimeWarning: divide by zero encountered in log\n",
      "  prob = np.log(A[:, s]) + alpha_log[:, t - 1]\n"
     ]
    }
   ],
   "source": [
    "# Viterbi\n",
    "state_sequence_viterbi = viterbi(range(nbState), A, b, emission_probas)"
   ]
  },
  {
   "cell_type": "code",
   "execution_count": 14,
   "metadata": {
    "collapsed": false
   },
   "outputs": [
    {
     "data": {
      "text/plain": [
       "0.995"
      ]
     },
     "execution_count": 14,
     "metadata": {},
     "output_type": "execute_result"
    }
   ],
   "source": [
    "# Precision \n",
    "np.sum(states == state_sequence_viterbi) / number_of_nucleotids \n",
    "# Weird score..."
   ]
  },
  {
   "cell_type": "markdown",
   "metadata": {},
   "source": [
    "Example 2: identification of highly conserved regions"
   ]
  },
  {
   "cell_type": "code",
   "execution_count": 112,
   "metadata": {
    "collapsed": false
   },
   "outputs": [],
   "source": [
    "## Definition of the parameters\n",
    "\n",
    "animalNames = [\"dog\", \"cat\", \"pig\", \"cow\", \"rat\", \"mouse\", \"baboon\", \"human\", \"chimp\"]\n",
    "n_species = len(animalNames)\n",
    "n_states = len(animalNames) + 1\n",
    "n_nucleotids = 500\n",
    "\n",
    "alphabet = ['A', 'C', 'T', 'G']\n",
    "alphabetSize = len(alphabet)\n",
    "\n",
    "# State-transition matrix\n",
    "lmbda = 0.94\n",
    "a = lmbda + 1/n_states*(1-lmbda)\n",
    "b = 1/n_states*(1-lmbda)\n",
    "\n",
    "A = b*np.ones((n_states, n_states))\n",
    "for i in range(n_states):\n",
    "    A[i, i] = a\n",
    "    \n",
    "# Initial-state probabilities (hypthesis: uniform distribution)\n",
    "b = np.ones(n_states) / n_states"
   ]
  },
  {
   "cell_type": "code",
   "execution_count": 113,
   "metadata": {
    "collapsed": false
   },
   "outputs": [],
   "source": [
    "# Loading the phylogenetic model from JSON\n",
    "tree_path = 'tree_ex2.json'\n",
    "tree = load_tree(tree_path)\n",
    "trees = []\n",
    "scaling_factor = [0.6, 1.1, 1.8, 2.2, 2.5, 3.0, 3.2, 3.5, 3.9, 4.3] # to be defined!\n",
    "\n",
    "for j in range(n_states):\n",
    "    trees.append(scale_branches_length(tree, scale=scaling_factor[j]))"
   ]
  },
  {
   "cell_type": "code",
   "execution_count": 114,
   "metadata": {
    "collapsed": false
   },
   "outputs": [],
   "source": [
    "# pi = np.zeros((n_states, alphabetSize))\n",
    "# # substitution rates for pi 0 and 1 are between 0 and 0.001\n",
    "# pi[0] = np.random.rand(alphabetSize) * 0.001\n",
    "# pi[1] = np.random.rand(alphabetSize) * 0.001\n",
    "# # but between 0 and 0.01 for pi 2 and 3\n",
    "# pi[2] = np.random.rand(alphabetSize) * 0.01\n",
    "# pi[3] = np.random.rand(alphabetSize) * 0.01\n",
    "# pi /= pi.sum(axis=1)[:, None]\n",
    "\n",
    "# Case 1 (easy)\n",
    "pi = np.random.rand(n_states, alphabetSize)\n",
    "pi /= pi.sum(axis=1)[:, None]\n",
    "\n",
    "# Case 2 (complicated)\n",
    "# pi = np.random.uniform(0.15, 0.35, (nbState, alphabetSize))\n",
    "# pi /= pi.sum(axis=1)[:, None]\n",
    "\n",
    "# translation/transversion rate\n",
    "kappa = 2.0*np.ones(10)"
   ]
  },
  {
   "cell_type": "code",
   "execution_count": 115,
   "metadata": {
    "collapsed": false
   },
   "outputs": [
    {
     "data": {
      "text/plain": [
       "array([8, 8, 8, 0, 0, 0, 0, 0, 0, 0, 0, 0, 0, 0, 0, 0, 0, 0, 0, 0, 0, 0, 0,\n",
       "       0, 0, 0, 0, 0, 0, 0, 0, 0, 0, 0, 9, 9, 9, 9, 9, 9, 9, 9, 9, 3, 3, 3,\n",
       "       3, 3, 3, 3, 3, 3, 1, 1, 1, 1, 1, 1, 1, 1, 1, 1, 1, 7, 7, 7, 7, 7, 7,\n",
       "       7, 8, 8, 8, 2, 2, 2, 2, 2, 2, 2, 2, 2, 2, 2, 2, 0, 8, 8, 8, 7, 7, 7,\n",
       "       7, 7, 7, 5, 5, 5, 5, 5, 5, 5, 5, 5, 5, 5, 5, 2, 2, 2, 2, 2, 2, 2, 2,\n",
       "       2, 2, 2, 2, 2, 2, 2, 2, 2, 2, 2, 2, 2, 2, 2, 5, 5, 5, 5, 5, 5, 5, 5,\n",
       "       5, 5, 5, 5, 5, 5, 5, 5, 5, 5, 5, 5, 5, 5, 5, 5, 5, 5, 5, 5, 5, 5, 5,\n",
       "       5, 5, 5, 5, 2, 2, 2, 2, 2, 2, 2, 2, 2, 2, 2, 2, 2, 2, 2, 2, 2, 2, 2,\n",
       "       2, 2, 2, 2, 2, 2, 2, 2, 2, 2, 2, 2, 2, 2, 2, 2, 2, 2, 2, 6, 6, 6, 6,\n",
       "       6, 6, 6, 6, 6, 6, 8, 8, 8, 8, 8, 8, 8, 8, 8, 8, 8, 8, 8, 8, 8, 8, 8,\n",
       "       8, 8, 8, 8, 8, 8, 8, 8, 8, 8, 8, 8, 8, 8, 8, 8, 8, 8, 8, 8, 8, 8, 8,\n",
       "       8, 8, 8, 8, 8, 8, 8, 8, 8, 8, 8, 8, 8, 8, 8, 8, 8, 8, 8, 8, 8, 8, 8,\n",
       "       8, 8, 8, 8, 8, 8, 8, 8, 8, 8, 8, 8, 8, 8, 8, 8, 8, 8, 8, 8, 8, 8, 8,\n",
       "       1, 1, 1, 1, 1, 1, 1, 1, 1, 1, 1, 1, 1, 1, 1, 1, 1, 1, 1, 1, 1, 1, 1,\n",
       "       1, 1, 1, 1, 1, 1, 1, 1, 1, 1, 1, 1, 1, 1, 1, 1, 1, 1, 1, 1, 1, 1, 1,\n",
       "       1, 1, 1, 1, 1, 1, 1, 1, 1, 1, 1, 1, 1, 1, 1, 1, 1, 1, 1, 1, 1, 9, 9,\n",
       "       9, 9, 9, 9, 4, 4, 4, 4, 4, 4, 4, 3, 3, 3, 4, 4, 4, 4, 4, 4, 4, 4, 4,\n",
       "       4, 4, 4, 4, 4, 4, 4, 4, 4, 4, 4, 4, 4, 4, 4, 4, 4, 7, 7, 7, 7, 7, 7,\n",
       "       7, 7, 8, 8, 8, 8, 8, 8, 8, 8, 8, 8, 8, 8, 1, 1, 7, 3, 3, 3, 3, 3, 3,\n",
       "       3, 3, 3, 3, 3, 3, 3, 3, 3, 3, 3, 3, 3, 3, 3, 3, 3, 3, 3, 3, 2, 2, 2,\n",
       "       2, 2, 2, 2, 2, 2, 2, 2, 0, 0, 0, 0, 0, 0, 0, 0, 0, 0, 0, 0, 0, 0, 0,\n",
       "       0, 0, 0, 0, 0, 0, 0, 0, 0, 0, 0, 0, 0, 0, 0, 0, 0], dtype=uint8)"
      ]
     },
     "execution_count": 115,
     "metadata": {},
     "output_type": "execute_result"
    }
   ],
   "source": [
    "strands, states = generate_case(A, b, pi, kappa, trees, n_nucleotids)\n",
    "states"
   ]
  },
  {
   "cell_type": "code",
   "execution_count": 116,
   "metadata": {
    "collapsed": false
   },
   "outputs": [],
   "source": [
    "Qs = rate_sub_HKY(pi, kappa)\n",
    "\n",
    "# Process likelihoods with Felsenstein's algorithm\n",
    "likelihoods = np.zeros((n_states, n_nucleotids))\n",
    "sites = np.zeros((n_nucleotids, n_species))\n",
    "for i in range(n_species):\n",
    "    sites[:, i] = strands[i]\n",
    "for state in range(n_states):\n",
    "    tree = trees[state]\n",
    "    Q = Qs[state]\n",
    "    p = pi[state]\n",
    "    likelihoods[state] = np_pruning(Q, p, tree, sites)"
   ]
  },
  {
   "cell_type": "code",
   "execution_count": 117,
   "metadata": {
    "collapsed": false
   },
   "outputs": [
    {
     "data": {
      "text/plain": [
       "array([[ 0.160526  ,  0.2636557 ,  0.28209246,  0.29372583],\n",
       "       [ 0.42111582,  0.18536932,  0.14504585,  0.24846901],\n",
       "       [ 0.37576575,  0.34665949,  0.08496973,  0.19260503],\n",
       "       [ 0.34919549,  0.19672631,  0.25427791,  0.19980028],\n",
       "       [ 0.266372  ,  0.29809236,  0.33784116,  0.09769449],\n",
       "       [ 0.04867874,  0.33684194,  0.34108056,  0.27339876],\n",
       "       [ 0.3833356 ,  0.39642689,  0.2195665 ,  0.00067101],\n",
       "       [ 0.43542334,  0.11770722,  0.31156107,  0.13530837],\n",
       "       [ 0.42209467,  0.02748357,  0.35199557,  0.1984262 ],\n",
       "       [ 0.29171714,  0.25709692,  0.37045286,  0.08073307]])"
      ]
     },
     "execution_count": 117,
     "metadata": {},
     "output_type": "execute_result"
    }
   ],
   "source": [
    "# Posterior probas computation\n",
    "post_probas = sum_product(A, b, likelihoods)\n",
    "np.argmax(post_probas, axis=0)\n",
    "pi"
   ]
  },
  {
   "cell_type": "code",
   "execution_count": 118,
   "metadata": {
    "collapsed": false
   },
   "outputs": [
    {
     "data": {
      "image/png": "[encoded data removed]",
      "text/plain": [
       "<matplotlib.figure.Figure at 0x7fe3d073b710>"
      ]
     },
     "metadata": {},
     "output_type": "display_data"
    }
   ],
   "source": [
    "interest = post_probas[0, :]\n",
    "interest\n",
    "plt.plot(post_probas[0,:])\n",
    "plt.show()"
   ]
  }
 ],
 "metadata": {
  "kernelspec": {
   "display_name": "Python 3",
   "language": "python",
   "name": "python3"
  },
  "language_info": {
   "codemirror_mode": {
    "name": "ipython",
    "version": 3
   },
   "file_extension": ".py",
   "mimetype": "text/x-python",
   "name": "python",
   "nbconvert_exporter": "python",
   "pygments_lexer": "ipython3",
   "version": "3.5.2"
  }
 },
 "nbformat": 4,
 "nbformat_minor": 2
}
