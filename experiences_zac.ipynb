{
 "cells": [
  {
   "cell_type": "code",
   "execution_count": null,
   "metadata": {
    "collapsed": true
   },
   "outputs": [],
   "source": [
    "import numpy as np\n",
    "\n",
    "from data_simulation import generate_case, rate_sub_HKY, scale_branches_length\n",
    "from felsenstein import pruning\n",
    "from tree_serialisation import load_tree"
   ]
  },
  {
   "cell_type": "code",
   "execution_count": null,
   "metadata": {
    "collapsed": true
   },
   "outputs": [],
   "source": [
    "# SIMULATION PARAMETERS\n",
    "tree_path = \"tree.json\"\n",
    "number_of_nucleotids = 100\n",
    "alphabet = ['A', 'C', 'T', 'G']\n",
    "alphabetSize = len(alphabet)\n",
    "\n",
    "nbState = 4\n",
    "# transition matrix of the toy gene finder\n",
    "A = np.zeros((nbState, nbState))\n",
    "A[0, 1] = 1\n",
    "A[1, 2] = 1\n",
    "A[2, 3] = 0.011\n",
    "A[2, 0] = 1 - A[2, 3]\n",
    "A[3, 3] = 0.33  # 0.9999  # unrealistic ...\n",
    "A[3, 0] = 1 - A[3, 3]\n",
    "\n",
    "# state initial probability\n",
    "b = np.array([0.25, 0.25, 0.26, 0.24])\n",
    "\n",
    "animalNames = [\"dog\", \"cat\", \"pig\", \"cow\", \"rat\", \"mouse\", \"baboon\",\n",
    "               \"human\"]\n",
    "n_species = len(animalNames)\n",
    "\"\"\"[...], such as the higher average rate of substitution and the greater\n",
    "transition/transversion ratio, in noncoding and third-codon-position sites\n",
    "than in firstand second- codon-position sites[...]\"\"\"\n",
    "\n",
    "pi = np.zeros((nbState, alphabetSize))\n",
    "# substitution rates for pi 0 and 1 are between 0 and 0.001\n",
    "pi[0] = np.random.rand(alphabetSize) * 0.001\n",
    "pi[1] = np.random.rand(alphabetSize) * 0.001\n",
    "# but between 0 and 0.01 for pi 2 and 3\n",
    "pi[2] = np.random.rand(alphabetSize) * 0.01\n",
    "pi[3] = np.random.rand(alphabetSize) * 0.01\n",
    "pi /= pi.sum(axis=1)\n",
    "\n",
    "# translation/transversion rate\n",
    "kappa = np.array([2.3, 2.7, 4.3, 5.4])"
   ]
  },
  {
   "cell_type": "code",
   "execution_count": null,
   "metadata": {
    "collapsed": false
   },
   "outputs": [],
   "source": [
    "# load the phylogenetic model from JSON\n",
    "tree = load_tree(tree_path)\n",
    "trees = []\n",
    "\n",
    "for j in range(nbState):\n",
    "    trees.append(scale_branches_length(tree))\n",
    "\n",
    "strands, states = generate_case(A, b, pi, kappa,\n",
    "                                trees, number_of_nucleotids)"
   ]
  },
  {
   "cell_type": "code",
   "execution_count": null,
   "metadata": {
    "collapsed": false
   },
   "outputs": [],
   "source": [
    "# Transform strands from ints to strings\n",
    "str_strands = list()\n",
    "for strand in strands:\n",
    "    str_strand = \"\"\n",
    "    for acid_int in strand:\n",
    "        str_strand = ''.join([str_strand, alphabet[acid_int]])\n",
    "    str_strands += [str_strand]"
   ]
  },
  {
   "cell_type": "code",
   "execution_count": null,
   "metadata": {
    "collapsed": false
   },
   "outputs": [],
   "source": [
    "# Transform strands in sites\n",
    "sites = list()\n",
    "for site_ind in range(number_of_nucleotids):\n",
    "    sites += [''.join([str_strands[species_ind][site_ind] for species_ind in range(n_species)])]"
   ]
  },
  {
   "cell_type": "code",
   "execution_count": null,
   "metadata": {
    "collapsed": false
   },
   "outputs": [],
   "source": [
    "# Process likelihoods with Felsenstein's algorithm\n",
    "Qs = rate_sub_HKY(pi, kappa)\n",
    "likelihoods = np.zeros((nbState, number_of_nucleotids))\n",
    "for state in range(nbState):\n",
    "    tree = trees[state]\n",
    "    Q = Qs[state]\n",
    "    p = pi[state]\n",
    "    for site_ind, site in enumerate(sites):\n",
    "        likelihoods[state, site_ind] = pruning(Q, p, tree, site)"
   ]
  },
  {
   "cell_type": "code",
   "execution_count": null,
   "metadata": {
    "collapsed": true
   },
   "outputs": [],
   "source": []
  }
 ],
 "metadata": {
  "kernelspec": {
   "display_name": "Python 3",
   "language": "python",
   "name": "python3"
  },
  "language_info": {
   "codemirror_mode": {
    "name": "ipython",
    "version": 3
   },
   "file_extension": ".py",
   "mimetype": "text/x-python",
   "name": "python",
   "nbconvert_exporter": "python",
   "pygments_lexer": "ipython3",
   "version": "3.5.2"
  }
 },
 "nbformat": 4,
 "nbformat_minor": 2
}
