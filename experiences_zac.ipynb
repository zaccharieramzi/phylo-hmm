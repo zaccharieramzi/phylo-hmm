{
 "cells": [
  {
   "cell_type": "code",
   "execution_count": 1,
   "metadata": {
    "collapsed": true
   },
   "outputs": [],
   "source": [
    "import random\n",
    "\n",
    "import numpy as np\n",
    "\n",
    "from data_simulation import generate_case, rate_sub_HKY, scale_branches_length\n",
    "from felsenstein import pruning\n",
    "from tree_serialisation import load_tree\n",
    "from viterbi_sumproduct import viterbi"
   ]
  },
  {
   "cell_type": "code",
   "execution_count": 2,
   "metadata": {
    "collapsed": true
   },
   "outputs": [],
   "source": [
    "# SIMULATION PARAMETERS\n",
    "tree_path = \"tree.json\"\n",
    "number_of_nucleotids = 100\n",
    "alphabet = ['A', 'C', 'T', 'G']\n",
    "alphabetSize = len(alphabet)\n",
    "\n",
    "nbState = 4\n",
    "# transition matrix of the toy gene finder\n",
    "A = np.zeros((nbState, nbState))\n",
    "A[0, 1] = 1\n",
    "A[1, 2] = 1\n",
    "A[2, 3] = 0.33\n",
    "A[2, 0] = 1 - A[2, 3]\n",
    "A[3, 3] = 0.33  # 0.9999  # unrealistic ...\n",
    "A[3, 0] = 1 - A[3, 3]\n",
    "\n",
    "# state initial probability\n",
    "b = np.array([0.25, 0.25, 0.26, 0.24])\n",
    "\n",
    "animalNames = [\"dog\", \"cat\", \"pig\", \"cow\", \"rat\", \"mouse\", \"baboon\",\n",
    "               \"human\"]\n",
    "n_species = len(animalNames)\n",
    "\"\"\"[...], such as the higher average rate of substitution and the greater\n",
    "transition/transversion ratio, in noncoding and third-codon-position sites\n",
    "than in firstand second- codon-position sites[...]\"\"\"\n",
    "\n",
    "pi = np.zeros((nbState, alphabetSize))\n",
    "# substitution rates for pi 0 and 1 are between 0 and 0.001\n",
    "pi[0] = np.random.rand(alphabetSize) * 0.001\n",
    "pi[1] = np.random.rand(alphabetSize) * 0.001\n",
    "# but between 0 and 0.01 for pi 2 and 3\n",
    "pi[2] = np.random.rand(alphabetSize) * 0.01\n",
    "pi[3] = np.random.rand(alphabetSize) * 0.01\n",
    "pi /= pi.sum(axis=1)[:, None]\n",
    "\n",
    "# translation/transversion rate\n",
    "kappa = np.array([2.3, 2.7, 4.3, 5.4])"
   ]
  },
  {
   "cell_type": "code",
   "execution_count": 3,
   "metadata": {
    "collapsed": false
   },
   "outputs": [],
   "source": [
    "# load the phylogenetic model from JSON\n",
    "tree = load_tree(tree_path)\n",
    "trees = []\n",
    "\n",
    "for j in range(nbState):\n",
    "    scaling_factor = random.random()\n",
    "    trees.append(scale_branches_length(tree, scale=scaling_factor))\n",
    "\n",
    "strands, states = generate_case(A, b, pi, kappa,\n",
    "                                trees, number_of_nucleotids)"
   ]
  },
  {
   "cell_type": "code",
   "execution_count": 4,
   "metadata": {
    "collapsed": false
   },
   "outputs": [],
   "source": [
    "# Transform strands from ints to strings\n",
    "str_strands = list()\n",
    "for strand in strands:\n",
    "    str_strand = \"\"\n",
    "    for acid_int in strand:\n",
    "        str_strand = ''.join([str_strand, alphabet[acid_int]])\n",
    "    str_strands += [str_strand]"
   ]
  },
  {
   "cell_type": "code",
   "execution_count": 5,
   "metadata": {
    "collapsed": false
   },
   "outputs": [],
   "source": [
    "# Transform strands in sites\n",
    "sites = list()\n",
    "for site_ind in range(number_of_nucleotids):\n",
    "    sites += [''.join([str_strands[species_ind][site_ind] for species_ind in range(n_species)])]"
   ]
  },
  {
   "cell_type": "code",
   "execution_count": 6,
   "metadata": {
    "collapsed": false
   },
   "outputs": [],
   "source": [
    "# Process likelihoods with Felsenstein's algorithm\n",
    "Qs = rate_sub_HKY(pi, kappa)\n",
    "likelihoods = np.zeros((nbState, number_of_nucleotids))\n",
    "for state in range(nbState):\n",
    "    tree = trees[state]\n",
    "    Q = Qs[state]\n",
    "    p = pi[state]\n",
    "    for site_ind, site in enumerate(sites):\n",
    "        likelihoods[state, site_ind] = pruning(Q, p, tree, site)"
   ]
  },
  {
   "cell_type": "code",
   "execution_count": 7,
   "metadata": {
    "collapsed": false
   },
   "outputs": [
    {
     "name": "stderr",
     "output_type": "stream",
     "text": [
      "/home/zaccharie/workspace/PGM/Project/phylo-hmm/viterbi_sumproduct.py:49: RuntimeWarning: divide by zero encountered in log\n",
      "  prob = np.log(A[:, s]) + alpha_log[:, t - 1]\n"
     ]
    }
   ],
   "source": [
    "# VITERBI PARAMETERS\n",
    "S = range(nbState)\n",
    "state_sequence_viterbi = viterbi(S, A, b, likelihoods)"
   ]
  },
  {
   "cell_type": "code",
   "execution_count": 8,
   "metadata": {
    "collapsed": false
   },
   "outputs": [
    {
     "data": {
      "text/plain": [
       "1.0"
      ]
     },
     "execution_count": 8,
     "metadata": {},
     "output_type": "execute_result"
    }
   ],
   "source": [
    "# Precision\n",
    "np.sum(states == state_sequence_viterbi) / number_of_nucleotids"
   ]
  },
  {
   "cell_type": "code",
   "execution_count": 9,
   "metadata": {
    "collapsed": false
   },
   "outputs": [
    {
     "data": {
      "text/plain": [
       "array([3, 3, 3, 3, 3, 0, 1, 2, 3, 3, 0, 1, 2, 3, 3, 0, 1, 2, 0, 1, 2, 3, 3,\n",
       "       0, 1, 2, 0, 1, 2, 0, 1, 2, 0, 1, 2, 3, 0, 1, 2, 3, 0, 1, 2, 3, 0, 1,\n",
       "       2, 0, 1, 2, 0, 1, 2, 0, 1, 2, 3, 3, 3, 3, 0, 1, 2, 0, 1, 2, 3, 0, 1,\n",
       "       2, 3, 0, 1, 2, 0, 1, 2, 0, 1, 2, 0, 1, 2, 0, 1, 2, 3, 0, 1, 2, 0, 1,\n",
       "       2, 0, 1, 2, 3, 3, 0, 1], dtype=uint8)"
      ]
     },
     "execution_count": 9,
     "metadata": {},
     "output_type": "execute_result"
    }
   ],
   "source": [
    "states"
   ]
  },
  {
   "cell_type": "code",
   "execution_count": 10,
   "metadata": {
    "collapsed": false
   },
   "outputs": [
    {
     "data": {
      "text/plain": [
       "array([ 3.,  3.,  3.,  3.,  3.,  0.,  1.,  2.,  3.,  3.,  0.,  1.,  2.,\n",
       "        3.,  3.,  0.,  1.,  2.,  0.,  1.,  2.,  3.,  3.,  0.,  1.,  2.,\n",
       "        0.,  1.,  2.,  0.,  1.,  2.,  0.,  1.,  2.,  3.,  0.,  1.,  2.,\n",
       "        3.,  0.,  1.,  2.,  3.,  0.,  1.,  2.,  0.,  1.,  2.,  0.,  1.,\n",
       "        2.,  0.,  1.,  2.,  3.,  3.,  3.,  3.,  0.,  1.,  2.,  0.,  1.,\n",
       "        2.,  3.,  0.,  1.,  2.,  3.,  0.,  1.,  2.,  0.,  1.,  2.,  0.,\n",
       "        1.,  2.,  0.,  1.,  2.,  0.,  1.,  2.,  3.,  0.,  1.,  2.,  0.,\n",
       "        1.,  2.,  0.,  1.,  2.,  3.,  3.,  0.,  1.])"
      ]
     },
     "execution_count": 10,
     "metadata": {},
     "output_type": "execute_result"
    }
   ],
   "source": [
    "state_sequence_viterbi"
   ]
  },
  {
   "cell_type": "code",
   "execution_count": 11,
   "metadata": {
    "collapsed": false
   },
   "outputs": [
    {
     "data": {
      "text/plain": [
       "array([1, 3, 3, 3, 2, 0, 1, 2, 3, 3, 0, 1, 2, 1, 1, 0, 1, 2, 0, 1, 2, 3, 1,\n",
       "       0, 1, 2, 0, 1, 2, 0, 1, 1, 0, 1, 2, 1, 0, 3, 2, 2, 0, 0, 2, 3, 0, 1,\n",
       "       2, 0, 2, 2, 0, 1, 0, 0, 1, 2, 3, 3, 3, 3, 2, 1, 1, 0, 1, 2, 3, 0, 1,\n",
       "       2, 1, 0, 1, 2, 0, 1, 2, 0, 1, 2, 0, 1, 2, 0, 1, 2, 3, 0, 1, 2, 0, 1,\n",
       "       2, 0, 1, 1, 2, 2, 0, 1])"
      ]
     },
     "execution_count": 11,
     "metadata": {},
     "output_type": "execute_result"
    }
   ],
   "source": [
    "state_sequence_likelihoods = np.argmax(likelihoods, axis=0)\n",
    "state_sequence_likelihoods"
   ]
  }
 ],
 "metadata": {
  "kernelspec": {
   "display_name": "Python 3",
   "language": "python",
   "name": "python3"
  },
  "language_info": {
   "codemirror_mode": {
    "name": "ipython",
    "version": 3
   },
   "file_extension": ".py",
   "mimetype": "text/x-python",
   "name": "python",
   "nbconvert_exporter": "python",
   "pygments_lexer": "ipython3",
   "version": "3.5.2"
  }
 },
 "nbformat": 4,
 "nbformat_minor": 2
}
