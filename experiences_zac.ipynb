{
 "cells": [
  {
   "cell_type": "code",
   "execution_count": 1,
   "metadata": {
    "collapsed": false
   },
   "outputs": [],
   "source": [
    "import random\n",
    "\n",
    "import numpy as np\n",
    "\n",
    "from model_evaluation import single_decoding_routine"
   ]
  },
  {
   "cell_type": "code",
   "execution_count": 2,
   "metadata": {
    "collapsed": true
   },
   "outputs": [],
   "source": [
    "# SIMULATION PARAMETERS\n",
    "tree_path = \"tree.json\"\n",
    "number_of_nucleotids = 100\n",
    "alphabet = ['A', 'C', 'T', 'G']\n",
    "alphabetSize = len(alphabet)\n",
    "\n",
    "nbState = 4\n",
    "# transition matrix of the toy gene finder\n",
    "A = np.zeros((nbState, nbState))\n",
    "A[0, 1] = 1\n",
    "A[1, 2] = 1\n",
    "A[2, 3] = 0.33\n",
    "A[2, 0] = 1 - A[2, 3]\n",
    "A[3, 3] = 0.33  # 0.9999  # unrealistic ...\n",
    "A[3, 0] = 1 - A[3, 3]\n",
    "\n",
    "# state initial probability\n",
    "b = np.array([0.25, 0.25, 0.26, 0.24])\n",
    "\n",
    "animalNames = [\"dog\", \"cat\", \"pig\", \"cow\", \"rat\", \"mouse\", \"baboon\",\n",
    "               \"human\"]\n",
    "n_species = len(animalNames)\n",
    "\"\"\"[...], such as the higher average rate of substitution and the greater\n",
    "transition/transversion ratio, in noncoding and third-codon-position sites\n",
    "than in firstand second- codon-position sites[...]\"\"\"\n",
    "\n",
    "pi = np.zeros((nbState, alphabetSize))\n",
    "# substitution rates for pi 0 and 1 are between 0 and 0.001\n",
    "pi[0] = np.random.rand(alphabetSize) * 0.001\n",
    "pi[1] = np.random.rand(alphabetSize) * 0.001\n",
    "# but between 0 and 0.01 for pi 2 and 3\n",
    "pi[2] = np.random.rand(alphabetSize) * 0.01\n",
    "pi[3] = np.random.rand(alphabetSize) * 0.01\n",
    "pi /= pi.sum(axis=1)[:, None]\n",
    "\n",
    "# translation/transversion rate\n",
    "kappa = np.array([2.3, 2.7, 4.3, 5.4])"
   ]
  },
  {
   "cell_type": "code",
   "execution_count": 3,
   "metadata": {
    "collapsed": true
   },
   "outputs": [],
   "source": [
    "# MONTE-CARLO PARAMETERS\n",
    "n_nucleotids = 10000\n",
    "n_simulations = 50"
   ]
  },
  {
   "cell_type": "code",
   "execution_count": 5,
   "metadata": {
    "collapsed": false
   },
   "outputs": [
    {
     "name": "stderr",
     "output_type": "stream",
     "text": [
      "/home/pierre/MVA/phylo-hmm/viterbi_sumproduct.py:49: RuntimeWarning: divide by zero encountered in log\n",
      "  prob = np.log(A[:, s]) + alpha_log[:, t - 1]\n"
     ]
    },
    {
     "name": "stdout",
     "output_type": "stream",
     "text": [
      "<zip object at 0x7f1d6896e548>\n"
     ]
    }
   ],
   "source": [
    "# Precision, sensitivity and specificity\n",
    "precision, sensitivity, specificity = np.zeros(n_simulations), np.zeros(n_simulations), np.zeros(n_simulations)\n",
    "times = np.zeros((n_simulations, 6))\n",
    "for i in range(n_simulations):\n",
    "    precision[i], sensitivity[i], specificity[i], labs, times[i] = single_decoding_routine(tree_path, number_of_nucleotids, alphabet, \n",
    "                                                                           A, b, n_species, pi, kappa)\n",
    "summary = {\n",
    "    \"precision\": np.mean(precision),\n",
    "    \" sensitivity\": np.mean(sensitivity),\n",
    "    \"specificity\": np.mean(specificity)\n",
    "          }\n",
    "\n",
    "times.mean(axis=0)\n",
    "print(zip(labs, times.tolist()))"
   ]
  },
  {
   "cell_type": "code",
   "execution_count": 7,
   "metadata": {
    "collapsed": false
   },
   "outputs": [
    {
     "data": {
      "text/plain": [
       "{' sensitivity': 0.93326538765530487,\n",
       " 'precision': 0.81440000000000001,\n",
       " 'specificity': 0.784060468942822}"
      ]
     },
     "execution_count": 7,
     "metadata": {},
     "output_type": "execute_result"
    }
   ],
   "source": [
    "summary"
   ]
  },
  {
   "cell_type": "code",
   "execution_count": 8,
   "metadata": {
    "collapsed": false
   },
   "outputs": [
    {
     "name": "stdout",
     "output_type": "stream",
     "text": [
      "load 0.00040011882782\n",
      "subtree 3.38554382324e-07\n",
      "case 0.0135735082626\n",
      "conversion 0.000320882797241\n",
      "np pruning 0.0121615600586\n",
      "hmm 0.00262838363647\n"
     ]
    }
   ],
   "source": [
    "for i, lab in enumerate(labs):\n",
    "    print(lab, times.mean(axis=0)[i])"
   ]
  },
  {
   "cell_type": "code",
   "execution_count": null,
   "metadata": {
    "collapsed": true
   },
   "outputs": [],
   "source": []
  }
 ],
 "metadata": {
  "kernelspec": {
   "display_name": "Python 3",
   "language": "python",
   "name": "python3"
  },
  "language_info": {
   "codemirror_mode": {
    "name": "ipython",
    "version": 3
   },
   "file_extension": ".py",
   "mimetype": "text/x-python",
   "name": "python",
   "nbconvert_exporter": "python",
   "pygments_lexer": "ipython3",
   "version": "3.5.2"
  }
 },
 "nbformat": 4,
 "nbformat_minor": 2
}
